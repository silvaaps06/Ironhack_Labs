{
 "cells": [
  {
   "cell_type": "markdown",
   "metadata": {},
   "source": [
    "### **Tip 1**\n",
    "\n",
    "##### - Avoid for loops for doing things that have methods"
   ]
  },
  {
   "cell_type": "code",
   "execution_count": 8,
   "metadata": {},
   "outputs": [
    {
     "data": {
      "text/plain": [
       "'IronHack'"
      ]
     },
     "execution_count": 8,
     "metadata": {},
     "output_type": "execute_result"
    }
   ],
   "source": [
    "s = \"\"\n",
    "lst = ['I','r','o','n','Hack']\n",
    "for substring in lst:\n",
    "    s = s + substring\n",
    "s"
   ]
  },
  {
   "cell_type": "code",
   "execution_count": 9,
   "metadata": {},
   "outputs": [
    {
     "data": {
      "text/plain": [
       "'IronHack'"
      ]
     },
     "execution_count": 9,
     "metadata": {},
     "output_type": "execute_result"
    }
   ],
   "source": [
    "s = \"\".join(lst)\n",
    "s"
   ]
  },
  {
   "cell_type": "markdown",
   "metadata": {},
   "source": [
    "### **Tip 2**\n",
    "##### - Use the %, or f' instead of + operator in string formatting"
   ]
  },
  {
   "cell_type": "code",
   "execution_count": 10,
   "metadata": {},
   "outputs": [
    {
     "data": {
      "text/plain": [
       "'<html>Zé, Gladys, Why So Many Insights in labs?</html>'"
      ]
     },
     "execution_count": 10,
     "metadata": {},
     "output_type": "execute_result"
    }
   ],
   "source": [
    "head = 'Zé'\n",
    "prologue = 'Gladys'\n",
    "query = 'Why So Many Insights in labs'\n",
    "tail = '?'\n",
    "\n",
    "out = \"<html>\" + head + \", \" + prologue + \", \" + query + tail + \"</html>\"\n",
    "out"
   ]
  },
  {
   "cell_type": "code",
   "execution_count": 14,
   "metadata": {},
   "outputs": [
    {
     "name": "stdout",
     "output_type": "stream",
     "text": [
      "<html>Zé, Gladys, Why So Many Insights in labs?</html>\n",
      "<html>Zé, Gladys, Why So Many Insights in labs?</html>\n"
     ]
    }
   ],
   "source": [
    "out1 =  \"<html>%s, %s, %s%s</html>\" % (head, prologue, query, tail)\n",
    "print(out1)\n",
    "\n",
    "#OR\n",
    "\n",
    "out2 = f\"<html>{head}, {prologue}, {query}{tail}</html>\"\n",
    "print(out2)"
   ]
  },
  {
   "cell_type": "markdown",
   "metadata": {},
   "source": [
    "### **Tip 3**\n",
    "##### - Avoid loops whenever you can"
   ]
  },
  {
   "cell_type": "code",
   "execution_count": 12,
   "metadata": {},
   "outputs": [
    {
     "data": {
      "text/plain": [
       "['I', 'R', 'O', 'N', 'HACK']"
      ]
     },
     "execution_count": 12,
     "metadata": {},
     "output_type": "execute_result"
    }
   ],
   "source": [
    "newlist = []\n",
    "lst = ['I','r','o','n','Hack']\n",
    "\n",
    "for word in lst:\n",
    "    newlist.append(word.upper())\n",
    "\n",
    "newlist"
   ]
  },
  {
   "cell_type": "code",
   "execution_count": 13,
   "metadata": {},
   "outputs": [
    {
     "name": "stdout",
     "output_type": "stream",
     "text": [
      "['I', 'R', 'O', 'N', 'HACK']\n",
      "['I', 'R', 'O', 'N', 'HACK']\n"
     ]
    }
   ],
   "source": [
    "newlist1 = list(map(str.upper, lst))\n",
    "print(newlist1)\n",
    "\n",
    "#OR\n",
    "\n",
    "newlist2 = [s.upper() for s in lst]\n",
    "print(newlist2)"
   ]
  },
  {
   "cell_type": "code",
   "execution_count": null,
   "metadata": {},
   "outputs": [],
   "source": []
  }
 ],
 "metadata": {
  "interpreter": {
   "hash": "8d99d9bae697fa3a931e04e670e1b88098a0dd156c46d65ffdc699080a6e1743"
  },
  "kernelspec": {
   "display_name": "Python 3.9.7 ('iron')",
   "language": "python",
   "name": "python3"
  },
  "language_info": {
   "codemirror_mode": {
    "name": "ipython",
    "version": 3
   },
   "file_extension": ".py",
   "mimetype": "text/x-python",
   "name": "python",
   "nbconvert_exporter": "python",
   "pygments_lexer": "ipython3",
   "version": "3.9.7"
  },
  "orig_nbformat": 4
 },
 "nbformat": 4,
 "nbformat_minor": 2
}
